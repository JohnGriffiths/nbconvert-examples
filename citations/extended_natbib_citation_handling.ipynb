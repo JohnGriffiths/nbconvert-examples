{
 "metadata": {
  "css": [
   ""
  ],
  "name": "",
  "signature": "sha256:ee85301636b104d6ec7cd6fc1bf3bab26475e3ab4715cc3141c3063e906a1deb"
 },
 "nbformat": 3,
 "nbformat_minor": 0,
 "worksheets": [
  {
   "cells": [
    {
     "cell_type": "heading",
     "level": 1,
     "metadata": {},
     "source": [
      "Demos of extended natbib citation handling. "
     ]
    },
    {
     "cell_type": "markdown",
     "metadata": {},
     "source": [
      "J Grif 18/03/2014"
     ]
    },
    {
     "cell_type": "heading",
     "level": 2,
     "metadata": {},
     "source": [
      "Notes:"
     ]
    },
    {
     "cell_type": "markdown",
     "metadata": {},
     "source": [
      "1. *Usage examples are modified from  http://merkel.zoneo.net/Latex/natbib.php* \n",
      "    \n",
      "2. *I wasn't able to use the full LifecycleTools.ipynb template for this, because it seems that some of the citations in it aren't compatible with named referencing. So I have just picked some key quotes and repeated with the different call options above.*"
     ]
    },
    {
     "cell_type": "code",
     "collapsed": false,
     "input": [
      "from IPython.core.display import HTML\n",
      "def css_styling():\n",
      "    styles = open(\"../../DoctoralThesis/styles/custom_css_TNR_wide.css\", \"r\").read()\n",
      "    return HTML(styles)\n",
      "css_styling()"
     ],
     "language": "python",
     "metadata": {
      "run_control": {
       "breakpoint": false
      }
     },
     "outputs": [
      {
       "html": [
        "<style>\n",
        "    @font-face {\n",
        "        font-family: \"Times New Roman\", Times, serif;\n",
        "    }\n",
        "    div.cell{\n",
        "        width:100%; //1000px;\n",
        "        margin-left:1% !important;\n",
        "        margin-right:auto;\n",
        "    }\n",
        "    h1 {\n",
        "        font-family: \"Times New Roman\", Times, serif;\n",
        "    }\n",
        "    h4{\n",
        "        margin-top:12px;\n",
        "        margin-bottom: 3px;\n",
        "       }\n",
        "    div.text_cell_render{\n",
        "        font-family: Times New Roman, Times, serif;\n",
        "        line-height: 145%;\n",
        "        font-size: 130%;\n",
        "        width:100%; //1000px;\n",
        "        margin-left:auto;\n",
        "        margin-right:auto;\n",
        "    }\n",
        "    .CodeMirror{\n",
        "            font-family: \"Source Code Pro\", source-code-pro,Consolas, monospace;\n",
        "    }\n",
        "    .prompt{\n",
        "        display: None;\n",
        "    } \n",
        "    .warning{\n",
        "        color: rgb( 240, 20, 20 )\n",
        "        }  \n",
        "</style>\n",
        "<script>\n",
        "    MathJax.Hub.Config({\n",
        "                        TeX: {\n",
        "                           extensions: [\"AMSmath.js\"]\n",
        "                           },\n",
        "                tex2jax: {\n",
        "                    inlineMath: [ ['$','$'], [\"\\\\(\",\"\\\\)\"] ],\n",
        "                    displayMath: [ ['$$','$$'], [\"\\\\[\",\"\\\\]\"] ]\n",
        "                },\n",
        "                displayAlign: 'center', // Change this to 'center' to center equations.\n",
        "                \"HTML-CSS\": {\n",
        "                    styles: {'.MathJax_Display': {\"margin\": 4}}\n",
        "                }\n",
        "        });\n",
        "</script>\n",
        "\n"
       ],
       "metadata": {},
       "output_type": "pyout",
       "prompt_number": 87,
       "text": [
        "<IPython.core.display.HTML at 0x3544f10>"
       ]
      }
     ],
     "prompt_number": 87
    },
    {
     "cell_type": "code",
     "collapsed": false,
     "input": [
      "from IPython.display import HTML\n",
      "HTML('<iframe src=http://merkel.zoneo.net/Latex/natbib.php width=1100 height=350></iframe>')"
     ],
     "language": "python",
     "metadata": {
      "run_control": {
       "breakpoint": false
      }
     },
     "outputs": [
      {
       "html": [
        "<iframe src=http://merkel.zoneo.net/Latex/natbib.php width=1100 height=350></iframe>"
       ],
       "metadata": {},
       "output_type": "pyout",
       "prompt_number": 88,
       "text": [
        "<IPython.core.display.HTML at 0x3544b90>"
       ]
      }
     ],
     "prompt_number": 88
    },
    {
     "cell_type": "markdown",
     "metadata": {},
     "source": [
      "\n",
      "---"
     ]
    },
    {
     "cell_type": "heading",
     "level": 2,
     "metadata": {},
     "source": [
      "Examples"
     ]
    },
    {
     "cell_type": "markdown",
     "metadata": {},
     "source": [
      "Following are a selection from the above page. \n",
      "\n",
      "\n",
      "Format is as follows: \n",
      "    \n",
      "    "
     ]
    },
    {
     "cell_type": "markdown",
     "metadata": {},
     "source": [
      "(X.) ( WORKS/FAILS/NOT SURE )   ( EXAMPLE CITATION COMMMAND CALL )  ( EXAMPLE RESULT )  \n",
      "(NOTEBOOK NBCONVERT RESULT)"
     ]
    },
    {
     "cell_type": "markdown",
     "metadata": {},
     "source": [
      "Most of them seem to work. \n",
      "\n",
      "Many of the 'not sure' ones might work; need to try out on some other ref combinations. "
     ]
    },
    {
     "cell_type": "heading",
     "level": 3,
     "metadata": {},
     "source": [
      "Basic commands"
     ]
    },
    {
     "cell_type": "markdown",
     "metadata": {},
     "source": [
      ">The natbib package has two basic citation commands, \\citet and \\citep for textual and parenthetical citations, respectively. There also exist the starred versions \\citet* and \\citep* that print the full author list, and not just the abbreviated one. All of these may take one or two optional arguments to add some text before and after the citation."
     ]
    },
    {
     "cell_type": "markdown",
     "metadata": {},
     "source": [
      "`1. WORKS:  \\citet{jon90}\t             -->    \tJones et al. (1990)`  "
     ]
    },
    {
     "cell_type": "markdown",
     "metadata": {},
     "source": [
      "<cite data-citet=\"Perez2011\"> Perez (2011)</cite>    "
     ]
    },
    {
     "cell_type": "markdown",
     "metadata": {},
     "source": [
      "`2. FAILS: \\citet[chap. 2]{jon90}\t     -->    \tJones et al. (1990, chap. 2)`  "
     ]
    },
    {
     "cell_type": "markdown",
     "metadata": {},
     "source": [
      "<cite data-citet[chap. 2]=\"Perez2011\"> Perez (2011)</cite>    "
     ]
    },
    {
     "cell_type": "markdown",
     "metadata": {},
     "source": [
      "`3. WORKS: \\citep{jon90}\t             -->    \t(Jones et al., 1990)`  "
     ]
    },
    {
     "cell_type": "markdown",
     "metadata": {},
     "source": [
      "<cite data-citep=\"Perez2011\"> Perez (2011)</cite>    "
     ]
    },
    {
     "cell_type": "markdown",
     "metadata": {},
     "source": [
      "`4. FAILS: \\citep[chap. 2]{jon90}\t     -->    \t(Jones et al., 1990, chap. 2)`   "
     ]
    },
    {
     "cell_type": "markdown",
     "metadata": {},
     "source": [
      "<cite data-citep[chap. 2]=\"Perez2011\"> Perez (2011)</cite>    "
     ]
    },
    {
     "cell_type": "markdown",
     "metadata": {},
     "source": [
      "`5. WORKS: \\citep[see][]{jon90}\t     -->    \t(see Jones et al., 1990)`  "
     ]
    },
    {
     "cell_type": "markdown",
     "metadata": {},
     "source": [
      "<cite data-citep[see][]=\"Perez2011\"> Perez (2011)</cite>    "
     ]
    },
    {
     "cell_type": "markdown",
     "metadata": {},
     "source": [
      "`6. FAILS: \\citep[see][chap. 2]{jon90}\t    -->    \t(see Jones et al., 1990, chap. 2)`  "
     ]
    },
    {
     "cell_type": "markdown",
     "metadata": {},
     "source": [
      "<cite data-citep[see][chap. 2]=\"Perez2011\"> Perez (2011)</cite>    "
     ]
    },
    {
     "cell_type": "markdown",
     "metadata": {},
     "source": [
      "`7. NOT SURE: \\citet*{jon90}\t    -->    \tJones, Baker, and Williams (1990)`    "
     ]
    },
    {
     "cell_type": "markdown",
     "metadata": {},
     "source": [
      "<cite data-citet*=\"Perez2011\"> Perez (2011)</cite>    "
     ]
    },
    {
     "cell_type": "markdown",
     "metadata": {},
     "source": [
      "`8. NOT SURE: \\citep*{jon90}\t    -->    \t(Jones, Baker, and Williams, 1990)`    "
     ]
    },
    {
     "cell_type": "markdown",
     "metadata": {},
     "source": [
      "<cite data-citep*=\"Perez2011\"> Perez (2011)</cite>  "
     ]
    },
    {
     "cell_type": "markdown",
     "metadata": {},
     "source": [
      "Multiple citations"
     ]
    },
    {
     "cell_type": "markdown",
     "metadata": {},
     "source": [
      ">Multiple citations may be made by including more than one citation key in the \\cite command argument."
     ]
    },
    {
     "cell_type": "code",
     "collapsed": false,
     "input": [
      "\n",
      "9. works\n",
      "10. works\n",
      "11. couldn't test\n",
      "12. couldn't test\n",
      "13. works\n",
      "14. can't tell\n",
      "15. works\n",
      "16. works\n"
     ],
     "language": "python",
     "metadata": {
      "run_control": {
       "breakpoint": false
      }
     },
     "outputs": [
      {
       "ename": "SyntaxError",
       "evalue": "invalid syntax (<ipython-input-89-106636d82a2d>, line 2)",
       "output_type": "pyerr",
       "traceback": [
        "\u001b[1;36m  File \u001b[1;32m\"<ipython-input-89-106636d82a2d>\"\u001b[1;36m, line \u001b[1;32m2\u001b[0m\n\u001b[1;33m    9. works\u001b[0m\n\u001b[1;37m           ^\u001b[0m\n\u001b[1;31mSyntaxError\u001b[0m\u001b[1;31m:\u001b[0m invalid syntax\n"
       ]
      }
     ],
     "prompt_number": 89
    },
    {
     "cell_type": "markdown",
     "metadata": {},
     "source": [
      "`9. WORKS: \\citet{jon90,jam91}\t    -->    \tJones et al. (1990); James et al. (1991)`"
     ]
    },
    {
     "cell_type": "markdown",
     "metadata": {},
     "source": [
      "<cite data-citet=\"Perez2011,Hef10\"> Perez (2011), Hef (2010)</cite>    "
     ]
    },
    {
     "cell_type": "markdown",
     "metadata": {},
     "source": [
      "`10. WORKS: \\citep{jon90,jam91}\t    -->    \t(Jones et al., 1990; James et al. 1991)`"
     ]
    },
    {
     "cell_type": "markdown",
     "metadata": {},
     "source": [
      "<cite data-citep=\"Perez2011,Hef10\"> Perez (2011)</cite>    "
     ]
    },
    {
     "cell_type": "markdown",
     "metadata": {},
     "source": [
      "`11. NOT SURE: \\citep{jon90,jon91}\t    -->    \t(Jones et al., 1990, 1991)`"
     ]
    },
    {
     "cell_type": "markdown",
     "metadata": {},
     "source": [
      "<cite data-citep=\"Perez2011,Perez2012\"> Perez (2011)</cite>    "
     ]
    },
    {
     "cell_type": "markdown",
     "metadata": {},
     "source": [
      "`12. NOT SURE: \\citep{jon90a,jon90b}\t    -->    \t(Jones et al., 1990a,b)`"
     ]
    },
    {
     "cell_type": "markdown",
     "metadata": {},
     "source": [
      "<cite data-citep=\"Perez2012a, Perez2012b\"> Perez (2011)</cite>    "
     ]
    },
    {
     "cell_type": "heading",
     "level": 3,
     "metadata": {},
     "source": [
      "Partial citations"
     ]
    },
    {
     "cell_type": "markdown",
     "metadata": {},
     "source": [
      ">In author-year schemes, it is sometimes desirable to be able to refer to the authors without the year, or vice versa. This is provided with the extra commands"
     ]
    },
    {
     "cell_type": "markdown",
     "metadata": {},
     "source": [
      "`13. WORKS: \\citeauthor{jon90}\t    -->    \tJones et al.`"
     ]
    },
    {
     "cell_type": "markdown",
     "metadata": {},
     "source": [
      "<cite data-citeauthor=\"Perez2011\"> Perez (2011)</cite>    "
     ]
    },
    {
     "cell_type": "markdown",
     "metadata": {},
     "source": [
      "`14. NOT SURE: \\citeauthor*{jon90}\t    -->    \tJones, Baker, and Williams`"
     ]
    },
    {
     "cell_type": "markdown",
     "metadata": {},
     "source": [
      "<cite data-citeauthor*=\"Perez2011\"> Perez (2011)</cite>    "
     ]
    },
    {
     "cell_type": "markdown",
     "metadata": {},
     "source": [
      "`15. WORKS: \\citeyear{jon90}\t    -->    \t1990`"
     ]
    },
    {
     "cell_type": "markdown",
     "metadata": {},
     "source": [
      "<cite data-citeyear=\"Perez2011\"> Perez (2011)</cite>    "
     ]
    },
    {
     "cell_type": "markdown",
     "metadata": {},
     "source": [
      "`16. WORKS: \\citeyearpar{jon90}\t    -->    \t(1990)`"
     ]
    },
    {
     "cell_type": "markdown",
     "metadata": {},
     "source": [
      "<cite data-citeyearpar=\"Perez2011\"> Perez (2011)</cite>    "
     ]
    },
    {
     "cell_type": "markdown",
     "metadata": {},
     "source": [
      "\n",
      "\n",
      "\n",
      "---\n",
      "\n"
     ]
    },
    {
     "cell_type": "heading",
     "level": 2,
     "metadata": {},
     "source": [
      "Write template"
     ]
    },
    {
     "cell_type": "markdown",
     "metadata": {},
     "source": [
      "The only change to the 'citations.tplx' template is the 'packages' block."
     ]
    },
    {
     "cell_type": "code",
     "collapsed": false,
     "input": [
      "%%writefile citations_natbib.tplx\n",
      "\n",
      "((*- extends 'latex_article.tplx' -*))\n",
      "\n",
      "((* block author *))\n",
      "\\author{John D. Griffiths}\n",
      "((* endblock author *))\n",
      "\n",
      "((* block title *))\n",
      "\\title{Extended natbib citation handling in ipython notebook}\n",
      "((* endblock title *))\n",
      "\n",
      "((* block packages *))\n",
      "((( super() )))\n",
      "\\usepackage[round]{natbib}\n",
      "((* endblock packages *))\n",
      "\n",
      "\n",
      "((* block bibliography *))\n",
      "\\bibliographystyle{apalike}\n",
      "\\bibliography{ipython}\n",
      "((* endblock bibliography *))\n"
     ],
     "language": "python",
     "metadata": {
      "run_control": {
       "breakpoint": false
      }
     },
     "outputs": []
    },
    {
     "cell_type": "markdown",
     "metadata": {},
     "source": [
      "\n",
      "---"
     ]
    },
    {
     "cell_type": "heading",
     "level": 2,
     "metadata": {},
     "source": [
      "Nbconvert"
     ]
    },
    {
     "cell_type": "code",
     "collapsed": false,
     "input": [
      "!ipython nbconvert --to latex --post PDF --template citations_natbib.tplx extended_natbib_citation_handling.ipynb"
     ],
     "language": "python",
     "metadata": {
      "run_control": {
       "breakpoint": false
      }
     },
     "outputs": []
    },
    {
     "cell_type": "markdown",
     "metadata": {},
     "source": [
      "\n",
      "---"
     ]
    },
    {
     "cell_type": "heading",
     "level": 2,
     "metadata": {},
     "source": [
      "Take a look at the PDF"
     ]
    },
    {
     "cell_type": "code",
     "collapsed": false,
     "input": [
      "from wand import image as wimage"
     ],
     "language": "python",
     "metadata": {
      "run_control": {
       "breakpoint": false
      }
     },
     "outputs": []
    },
    {
     "cell_type": "code",
     "collapsed": false,
     "input": [
      "from wand.image import Image as WImage\n",
      "img = WImage(filename='extended_natbib_citation_handling.pdf[0]');\n",
      "img"
     ],
     "language": "python",
     "metadata": {
      "run_control": {
       "breakpoint": false
      }
     },
     "outputs": []
    },
    {
     "cell_type": "code",
     "collapsed": false,
     "input": [
      "from wand.image import Image as WImage\n",
      "img = WImage(filename='extended_natbib_citation_handling.pdf[1]');\n",
      "img"
     ],
     "language": "python",
     "metadata": {
      "run_control": {
       "breakpoint": false
      }
     },
     "outputs": []
    },
    {
     "cell_type": "code",
     "collapsed": false,
     "input": [
      "from wand.image import Image as WImage\n",
      "img = WImage(filename='extended_natbib_citation_handling.pdf[2]');\n",
      "img"
     ],
     "language": "python",
     "metadata": {
      "run_control": {
       "breakpoint": false
      }
     },
     "outputs": []
    }
   ],
   "metadata": {}
  }
 ]
}